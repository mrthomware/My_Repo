{
 "cells": [
  {
   "cell_type": "markdown",
   "source": [
    "Turn meeting notes into a summary.\r\n",
    "Prompt\r\n",
    "\r\n",
    "Convert my short hand into a first-hand account of the meeting:\r\n",
    "\r\n",
    "Tom: Profits up 50%\r\n",
    "Jane: New servers are online\r\n",
    "Kjel: Need more time to fix software\r\n",
    "Jane: Happy to help\r\n",
    "Parkman: Beta testing almost done\r\n",
    "\r\n",
    "Summary:"
   ],
   "metadata": {}
  },
  {
   "cell_type": "markdown",
   "source": [
    "Settings\r\n",
    "Engine\r\n",
    "davinci-instruct-beta\r\n",
    "Max tokens\r\n",
    "64\r\n",
    "Temperature\r\n",
    "0.7\r\n",
    "Top p\r\n",
    "1.0\r\n",
    "Frequency penalty\r\n",
    "0.0\r\n",
    "Presence penalty\r\n",
    "0.0"
   ],
   "metadata": {}
  },
  {
   "cell_type": "markdown",
   "source": [
    "Sample response\r\n",
    "\r\n",
    "Profits are up, Jane's new servers are online, Kjel needs more time to fix software, and Parkman's beta testing is almost done."
   ],
   "metadata": {}
  },
  {
   "cell_type": "code",
   "execution_count": null,
   "source": [
    "import os\r\n",
    "import openai\r\n",
    "\r\n",
    "openai.api_key = os.getenv(\"OPENAI_API_KEY\")\r\n",
    "\r\n",
    "response = openai.Completion.create(\r\n",
    "  engine=\"davinci-instruct-beta\",\r\n",
    "  prompt=\"Convert my short hand into a first-hand account of the meeting:\\n\\nTom: Profits up 50%\\nJane: New servers are online\\nKjel: Need more time to fix software\\nJane: Happy to help\\nParkman: Beta testing almost done\\n\\nSummary:\",\r\n",
    "  temperature=0.7,\r\n",
    "  max_tokens=64,\r\n",
    "  top_p=1.0,\r\n",
    "  frequency_penalty=0.0,\r\n",
    "  presence_penalty=0.0\r\n",
    ")"
   ],
   "outputs": [],
   "metadata": {}
  }
 ],
 "metadata": {
  "orig_nbformat": 4,
  "language_info": {
   "name": "python"
  }
 },
 "nbformat": 4,
 "nbformat_minor": 2
}