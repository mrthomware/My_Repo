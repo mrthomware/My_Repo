{
 "cells": [
  {
   "cell_type": "markdown",
   "source": [
    "Generate an outline for a research topic.\r\n",
    "Prompt\r\n",
    "\r\n",
    "Create an outline for an essay about Walt Disney and his contributions to animation:\r\n",
    "\r\n",
    "I: Introduction"
   ],
   "metadata": {}
  },
  {
   "cell_type": "markdown",
   "source": [
    "Settings\r\n",
    "Max tokens\r\n",
    "60\r\n",
    "Temperature\r\n",
    "0.7\r\n",
    "Top p\r\n",
    "1.0\r\n",
    "Frequency penalty\r\n",
    "0.0\r\n",
    "Presence penalty\r\n",
    "0.0"
   ],
   "metadata": {}
  },
  {
   "cell_type": "markdown",
   "source": [
    "Sample response\r\n",
    "\r\n",
    ": Introduce the topic and your point of view on it.\r\n",
    "\r\n",
    "II: Walt Disney's life: His early life, the years leading up to the release of Snow White and the Seven Dwarfs (1937), and his contributions to animation.\r\n",
    "\r\n",
    "III: Walt Disney's death: The circumstances surrounding his death, his contributions to animation, and the lasting effects of his work.\r\n",
    "\r\n",
    "IV: Conclusion: Restate your point of view and address how Walt Disney continues to influence animation today."
   ],
   "metadata": {}
  },
  {
   "cell_type": "code",
   "execution_count": null,
   "source": [
    "import os\r\n",
    "import openai\r\n",
    "\r\n",
    "openai.api_key = os.getenv(\"OPENAI_API_KEY\")\r\n",
    "\r\n",
    "response = openai.Completion.create(\r\n",
    "  engine=\"davinci\",\r\n",
    "  prompt=\"Create an outline for an essay about Walt Disney and his contributions to animation:\\n\\nI: Introduction\",\r\n",
    "  temperature=0.7,\r\n",
    "  max_tokens=60,\r\n",
    "  top_p=1.0,\r\n",
    "  frequency_penalty=0.0,\r\n",
    "  presence_penalty=0.0\r\n",
    ")"
   ],
   "outputs": [],
   "metadata": {}
  }
 ],
 "metadata": {
  "orig_nbformat": 4,
  "language_info": {
   "name": "python"
  }
 },
 "nbformat": 4,
 "nbformat_minor": 2
}