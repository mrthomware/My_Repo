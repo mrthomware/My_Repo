{
 "cells": [
  {
   "cell_type": "markdown",
   "source": [
    "Create simple SQL requests.\r\n",
    "Prompt\r\n",
    "\r\n",
    "Create a SQL request to find all users who live in California and have over 1000 credits:\r\n",
    "\r\n",
    "SELECT"
   ],
   "metadata": {}
  },
  {
   "cell_type": "markdown",
   "source": [
    "Settings\r\n",
    "Max tokens\r\n",
    "60\r\n",
    "Temperature\r\n",
    "0.3\r\n",
    "Top p\r\n",
    "1.0\r\n",
    "Frequency penalty\r\n",
    "0.0\r\n",
    "Presence penalty\r\n",
    "0.0\r\n",
    "Stop sequence\r\n",
    "\\n\r\n"
   ],
   "metadata": {}
  },
  {
   "cell_type": "markdown",
   "source": [
    "Sample response\r\n",
    "\r\n",
    "* FROM users WHERE state = 'CA' AND credits > 1000"
   ],
   "metadata": {}
  },
  {
   "cell_type": "code",
   "execution_count": null,
   "source": [
    "import os\r\n",
    "import openai\r\n",
    "\r\n",
    "openai.api_key = os.getenv(\"OPENAI_API_KEY\")\r\n",
    "\r\n",
    "response = openai.Completion.create(\r\n",
    "  engine=\"davinci\",\r\n",
    "  prompt=\"Create a SQL request to find all users who live in California and have over 1000 credits:\\n\\nSELECT\",\r\n",
    "  temperature=0.3,\r\n",
    "  max_tokens=60,\r\n",
    "  top_p=1.0,\r\n",
    "  frequency_penalty=0.0,\r\n",
    "  presence_penalty=0.0,\r\n",
    "  stop=[\"\\n\"]\r\n",
    ")"
   ],
   "outputs": [],
   "metadata": {}
  }
 ],
 "metadata": {
  "orig_nbformat": 4,
  "language_info": {
   "name": "python"
  }
 },
 "nbformat": 4,
 "nbformat_minor": 2
}