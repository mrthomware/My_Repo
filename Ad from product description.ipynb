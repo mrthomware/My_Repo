{
 "cells": [
  {
   "cell_type": "markdown",
   "source": [
    "This turns a product description into ad copy.\r\n",
    "Prompt\r\n",
    "\r\n",
    "Write a creative ad for the following product to run on Facebook:\r\n",
    "\"\"\"\"\"\"\r\n",
    "Airee is a line of skin-care products for young women with delicate skin. The ingredients are all-natural.\r\n",
    "\"\"\"\"\"\"\r\n",
    "This is the ad I wrote for Facebook aimed at teenage girls:\r\n",
    "\"\"\"\"\"\""
   ],
   "metadata": {}
  },
  {
   "cell_type": "markdown",
   "source": [
    "Settings\r\n",
    "Engine\r\n",
    "davinci-instruct-beta\r\n",
    "Max tokens\r\n",
    "60\r\n",
    "Temperature\r\n",
    "0.5\r\n",
    "Top p\r\n",
    "1.0\r\n",
    "Frequency penalty\r\n",
    "0.0\r\n",
    "Presence penalty\r\n",
    "0.0\r\n",
    "Stop sequence\r\n",
    "\"\"\"\"\"\""
   ],
   "metadata": {}
  },
  {
   "cell_type": "markdown",
   "source": [
    "Sample response\r\n",
    "\r\n",
    "Do you have sensitive skin? If so, then Airee is for you! Airee products are made with natural ingredients to help you feel good about your skin. Try out Airee for a happy, healthy you!"
   ],
   "metadata": {}
  },
  {
   "cell_type": "code",
   "execution_count": null,
   "source": [
    "import os\r\n",
    "import openai\r\n",
    "\r\n",
    "openai.api_key = os.getenv(\"OPENAI_API_KEY\")\r\n",
    "\r\n",
    "response = openai.Completion.create(\r\n",
    "  engine=\"davinci-instruct-beta\",\r\n",
    "  prompt=\"Write a creative ad for the following product to run on Facebook:\\n\\\"\\\"\\\"\\\"\\\"\\\"\\nAiree is a line of skin-care products for young women with delicate skin. The ingredients are all-natural.\\n\\\"\\\"\\\"\\\"\\\"\\\"\\nThis is the ad I wrote for Facebook aimed at teenage girls:\\n\\\"\\\"\\\"\\\"\\\"\\\"\",\r\n",
    "  temperature=0.5,\r\n",
    "  max_tokens=60,\r\n",
    "  top_p=1.0,\r\n",
    "  frequency_penalty=0.0,\r\n",
    "  presence_penalty=0.0,\r\n",
    "  stop=[\"\\\"\\\"\\\"\\\"\\\"\\\"\"]\r\n",
    ")"
   ],
   "outputs": [],
   "metadata": {}
  }
 ],
 "metadata": {
  "orig_nbformat": 4,
  "language_info": {
   "name": "python"
  }
 },
 "nbformat": 4,
 "nbformat_minor": 2
}