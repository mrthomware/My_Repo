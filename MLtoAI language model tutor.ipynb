{
 "cells": [
  {
   "cell_type": "markdown",
   "source": [
    "This is a QA-style chatbot that answers questions about language models.\r\n",
    "Prompt\r\n",
    "\r\n",
    "ML/AI language model tutor\r\n",
    "\r\n",
    "\r\n",
    "You: What is a language model?\r\n",
    "ML Tutor: A language model is a statistical model that describes the probability of a word given the previous words.\r\n",
    "You: What is a statistical model?\r\n",
    "ML Tutor:"
   ],
   "metadata": {}
  },
  {
   "cell_type": "markdown",
   "source": [
    "Settings\r\n",
    "Max tokens\r\n",
    "60\r\n",
    "Temperature\r\n",
    "0.3\r\n",
    "Top p\r\n",
    "1.0\r\n",
    "Frequency penalty\r\n",
    "0.5\r\n",
    "Presence penalty\r\n",
    "0.0\r\n",
    "Stop sequence\r\n",
    "You:"
   ],
   "metadata": {}
  },
  {
   "cell_type": "markdown",
   "source": [
    "Sample response\r\n",
    "\r\n",
    "A statistical model is a mathematical model that describes the probability of an event given the previous events."
   ],
   "metadata": {}
  },
  {
   "cell_type": "code",
   "execution_count": null,
   "source": [
    "import os\r\n",
    "import openai\r\n",
    "\r\n",
    "openai.api_key = os.getenv(\"OPENAI_API_KEY\")\r\n",
    "\r\n",
    "response = openai.Completion.create(\r\n",
    "  engine=\"davinci\",\r\n",
    "  prompt=\"ML/AI language model tutor\\n\\n\\nYou: What is a language model?\\nML Tutor: A language model is a statistical model that describes the probability of a word given the previous words.\\nYou: What is a statistical model?\\nML Tutor:\",\r\n",
    "  temperature=0.3,\r\n",
    "  max_tokens=60,\r\n",
    "  top_p=1.0,\r\n",
    "  frequency_penalty=0.5,\r\n",
    "  presence_penalty=0.0,\r\n",
    "  stop=[\"You:\"]\r\n",
    ")"
   ],
   "outputs": [],
   "metadata": {}
  }
 ],
 "metadata": {
  "orig_nbformat": 4,
  "language_info": {
   "name": "python"
  }
 },
 "nbformat": 4,
 "nbformat_minor": 2
}