{
 "cells": [
  {
   "cell_type": "markdown",
   "source": [
    "Converts first-person POV to the third-person. This is modified from a community prompt to use fewer examples.\r\n",
    "Prompt\r\n",
    "\r\n",
    "First-person to third-person\r\n",
    "\r\n",
    "Input: I decided to make a movie about Ada Lovelace.\r\n",
    "Output: He decided to make a movie about Ada Lovelace.\r\n",
    "\r\n",
    "Input: My biggest fear was that I wasn't able to write the story adequately.\r\n",
    "Output: His biggest fear was that he wouldn't be able to write the story adequately.\r\n",
    "\r\n",
    "Input: I started researching my biology project last week.\r\n",
    "Output:"
   ],
   "metadata": {}
  },
  {
   "cell_type": "markdown",
   "source": [
    "Settings\r\n",
    "Max tokens\r\n",
    "60\r\n",
    "Temperature\r\n",
    "0.3\r\n",
    "Top p\r\n",
    "1.0\r\n",
    "Frequency penalty\r\n",
    "0.0\r\n",
    "Presence penalty\r\n",
    "0.0\r\n",
    "Stop sequence\r\n",
    "\\n"
   ],
   "metadata": {}
  },
  {
   "cell_type": "markdown",
   "source": [
    "Sample response\r\n",
    "\r\n",
    "He started researching his biology project last week."
   ],
   "metadata": {}
  },
  {
   "cell_type": "code",
   "execution_count": null,
   "source": [
    "import os\r\n",
    "import openai\r\n",
    "\r\n",
    "openai.api_key = os.getenv(\"OPENAI_API_KEY\")\r\n",
    "\r\n",
    "response = openai.Completion.create(\r\n",
    "  engine=\"davinci\",\r\n",
    "  prompt=\"First-person to third-person\\n\\nInput: I decided to make a movie about Ada Lovelace.\\nOutput: He decided to make a movie about Ada Lovelace.\\n\\nInput: My biggest fear was that I wasn't able to write the story adequately.\\nOutput: His biggest fear was that he wouldn't be able to write the story adequately.\\n\\nInput: I started researching my biology project last week.\\nOutput:\",\r\n",
    "  temperature=0.3,\r\n",
    "  max_tokens=60,\r\n",
    "  top_p=1.0,\r\n",
    "  frequency_penalty=0.0,\r\n",
    "  presence_penalty=0.0,\r\n",
    "  stop=[\"\\n\"]\r\n",
    ")"
   ],
   "outputs": [],
   "metadata": {}
  }
 ],
 "metadata": {
  "orig_nbformat": 4,
  "language_info": {
   "name": "python"
  }
 },
 "nbformat": 4,
 "nbformat_minor": 2
}