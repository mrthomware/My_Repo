{
 "cells": [
  {
   "cell_type": "markdown",
   "source": [
    "This prompt creates a question + answer structure for answering questions based on existing knowledge.\r\n",
    "Prompt\r\n",
    "\r\n",
    "I am a highly intelligent question answering bot. If you ask me a question that is rooted in truth, I will give you the answer. If you ask me a question that is nonsense, trickery, or has no clear answer, I will respond with \"Unknown\".\r\n",
    "\r\n",
    "Q: What is human life expectancy in the United States?\r\n",
    "A: Human life expectancy in the United States is 78 years.\r\n",
    "\r\n",
    "Q: Who was president of the United States in 1955?\r\n",
    "A: Dwight D. Eisenhower was president of the United States in 1955.\r\n",
    "\r\n",
    "Q: Which party did he belong to?\r\n",
    "A: He belonged to the Republican Party.\r\n",
    "\r\n",
    "Q: What is the square root of banana?\r\n",
    "A: Unknown\r\n",
    "\r\n",
    "Q: How does a telescope work?\r\n",
    "A: Telescopes use lenses or mirrors to focus light and make objects appear closer.\r\n",
    "\r\n",
    "Q: Where were the 1992 Olympics held?\r\n",
    "A: The 1992 Olympics were held in Barcelona, Spain.\r\n",
    "\r\n",
    "Q: How many squigs are in a bonk?\r\n",
    "A: Unknown\r\n",
    "\r\n",
    "Q: Where is the Valley of Kings?\r\n",
    "A:"
   ],
   "metadata": {}
  },
  {
   "cell_type": "markdown",
   "source": [
    "Settings\r\n",
    "Max tokens\r\n",
    "100\r\n",
    "Temperature\r\n",
    "0\r\n",
    "Top p\r\n",
    "1\r\n",
    "Frequency penalty\r\n",
    "0.0\r\n",
    "Presence penalty\r\n",
    "0.0\r\n",
    "Stop sequence\r\n",
    "\\n"
   ],
   "metadata": {}
  },
  {
   "cell_type": "markdown",
   "source": [
    "Sample response\r\n",
    "\r\n",
    "The Valley of Kings is in Luxor, Egypt."
   ],
   "metadata": {}
  },
  {
   "cell_type": "code",
   "execution_count": null,
   "source": [
    "import os\r\n",
    "import openai\r\n",
    "\r\n",
    "openai.api_key = os.getenv(\"OPENAI_API_KEY\")\r\n",
    "\r\n",
    "response = openai.Completion.create(\r\n",
    "  engine=\"davinci\",\r\n",
    "  prompt=\"I am a highly intelligent question answering bot. If you ask me a question that is rooted in truth, I will give you the answer. If you ask me a question that is nonsense, trickery, or has no clear answer, I will respond with \\\"Unknown\\\".\\n\\nQ: What is human life expectancy in the United States?\\nA: Human life expectancy in the United States is 78 years.\\n\\nQ: Who was president of the United States in 1955?\\nA: Dwight D. Eisenhower was president of the United States in 1955.\\n\\nQ: Which party did he belong to?\\nA: He belonged to the Republican Party.\\n\\nQ: What is the square root of banana?\\nA: Unknown\\n\\nQ: How does a telescope work?\\nA: Telescopes use lenses or mirrors to focus light and make objects appear closer.\\n\\nQ: Where were the 1992 Olympics held?\\nA: The 1992 Olympics were held in Barcelona, Spain.\\n\\nQ: How many squigs are in a bonk?\\nA: Unknown\\n\\nQ: Where is the Valley of Kings?\\nA:\",\r\n",
    "  temperature=0,\r\n",
    "  max_tokens=100,\r\n",
    "  top_p=1,\r\n",
    "  frequency_penalty=0.0,\r\n",
    "  presence_penalty=0.0,\r\n",
    "  stop=[\"\\n\"]\r\n",
    ")"
   ],
   "outputs": [],
   "metadata": {}
  }
 ],
 "metadata": {
  "orig_nbformat": 4,
  "language_info": {
   "name": "python"
  }
 },
 "nbformat": 4,
 "nbformat_minor": 2
}