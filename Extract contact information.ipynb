{
 "cells": [
  {
   "cell_type": "markdown",
   "source": [
    "Extract contact information from a block of text.\r\n",
    "Prompt\r\n",
    "\r\n",
    "Extract the mailing address from this email:\r\n",
    "\r\n",
    "Dear Kelly,\r\n",
    "\r\n",
    "It was great to talk to you at the seminar. I thought Jane's talk was quite good.\r\n",
    "\r\n",
    "Thank you for the book. Here's my address 2111 Ash Lane, Crestview CA 92002\r\n",
    "\r\n",
    "Best,\r\n",
    "\r\n",
    "Maya\r\n",
    "\r\n",
    "Name and address:"
   ],
   "metadata": {}
  },
  {
   "cell_type": "markdown",
   "source": [
    "Settings\r\n",
    "Engine\r\n",
    "davinci-instruct-beta\r\n",
    "Max tokens\r\n",
    "64\r\n",
    "Temperature\r\n",
    "0\r\n",
    "Top p\r\n",
    "1.0\r\n",
    "Frequency penalty\r\n",
    "0.0\r\n",
    "Presence penalty\r\n",
    "0.0"
   ],
   "metadata": {}
  },
  {
   "cell_type": "markdown",
   "source": [
    "Sample response\r\n",
    "\r\n",
    "2111 Ash Lane, Crestview CA 92002"
   ],
   "metadata": {}
  },
  {
   "cell_type": "code",
   "execution_count": null,
   "source": [
    "import os\r\n",
    "import openai\r\n",
    "\r\n",
    "openai.api_key = os.getenv(\"OPENAI_API_KEY\")\r\n",
    "\r\n",
    "response = openai.Completion.create(\r\n",
    "  engine=\"davinci-instruct-beta\",\r\n",
    "  prompt=\"Extract the mailing address from this email:\\n\\nDear Kelly,\\n\\nIt was great to talk to you at the seminar. I thought Jane's talk was quite good.\\n\\nThank you for the book. Here's my address 2111 Ash Lane, Crestview CA 92002\\n\\nBest,\\n\\nMaya\\n\\nName and address:\\n\",\r\n",
    "  temperature=0,\r\n",
    "  max_tokens=64,\r\n",
    "  top_p=1.0,\r\n",
    "  frequency_penalty=0.0,\r\n",
    "  presence_penalty=0.0\r\n",
    ")"
   ],
   "outputs": [],
   "metadata": {}
  }
 ],
 "metadata": {
  "orig_nbformat": 4,
  "language_info": {
   "name": "python"
  }
 },
 "nbformat": 4,
 "nbformat_minor": 2
}