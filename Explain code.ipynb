{
 "cells": [
  {
   "cell_type": "markdown",
   "source": [
    "Explain a complicated piece of code.\r\n",
    "Prompt\r\n",
    "\r\n",
    "class Log:\r\n",
    "    def __init__(self, path):\r\n",
    "        dirname = os.path.dirname(path)\r\n",
    "        os.makedirs(dirname, exist_ok=True)\r\n",
    "        f = open(path, \"a+\")\r\n",
    "\r\n",
    "        # Check that the file is newline-terminated\r\n",
    "        size = os.path.getsize(path)\r\n",
    "        if size > 0:\r\n",
    "            f.seek(size - 1)\r\n",
    "            end = f.read(1)\r\n",
    "            if end != \"\\n\":\r\n",
    "                f.write(\"\\n\")\r\n",
    "        self.f = f\r\n",
    "        self.path = path\r\n",
    "\r\n",
    "    def log(self, event):\r\n",
    "        event[\"_event_id\"] = str(uuid.uuid4())\r\n",
    "        json.dump(event, self.f)\r\n",
    "        self.f.write(\"\\n\")\r\n",
    "\r\n",
    "    def state(self):\r\n",
    "        state = {\"complete\": set(), \"last\": None}\r\n",
    "        for line in open(self.path):\r\n",
    "            event = json.loads(line)\r\n",
    "            if event[\"type\"] == \"submit\" and event[\"success\"]:\r\n",
    "                state[\"complete\"].add(event[\"id\"])\r\n",
    "                state[\"last\"] = event\r\n",
    "        return state\r\n",
    "\r\n",
    "\"\"\"\r\n",
    "Here's what the above class is doing:\r\n",
    "1."
   ],
   "metadata": {}
  },
  {
   "cell_type": "markdown",
   "source": [
    "Settings\r\n",
    "Engine\r\n",
    "davinci-codex\r\n",
    "Max tokens\r\n",
    "64\r\n",
    "Temperature\r\n",
    "0\r\n",
    "Top p\r\n",
    "1.0\r\n",
    "Frequency penalty\r\n",
    "0.0\r\n",
    "Presence penalty\r\n",
    "0.0\r\n",
    "Stop sequence\r\n",
    "\"\"\""
   ],
   "metadata": {}
  },
  {
   "cell_type": "markdown",
   "source": [
    "Sample response\r\n",
    "\r\n",
    "  The constructor creates a directory for the log file if it doesn't exist.\r\n",
    "2.  The log() method writes a JSON-encoded event to the log file.\r\n",
    "3.  The state() method returns a dictionary with the set of complete tasks and the most recent event."
   ],
   "metadata": {}
  },
  {
   "cell_type": "code",
   "execution_count": null,
   "source": [
    "import os\r\n",
    "import openai\r\n",
    "\r\n",
    "openai.api_key = os.getenv(\"OPENAI_API_KEY\")\r\n",
    "\r\n",
    "response = openai.Completion.create(\r\n",
    "  engine=\"davinci-codex\",\r\n",
    "  prompt=\"class Log:\\n    def __init__(self, path):\\n        dirname = os.path.dirname(path)\\n        os.makedirs(dirname, exist_ok=True)\\n        f = open(path, \\\"a+\\\")\\n\\n        # Check that the file is newline-terminated\\n        size = os.path.getsize(path)\\n        if size > 0:\\n            f.seek(size - 1)\\n            end = f.read(1)\\n            if end != \\\"\\\\n\\\":\\n                f.write(\\\"\\\\n\\\")\\n        self.f = f\\n        self.path = path\\n\\n    def log(self, event):\\n        event[\\\"_event_id\\\"] = str(uuid.uuid4())\\n        json.dump(event, self.f)\\n        self.f.write(\\\"\\\\n\\\")\\n\\n    def state(self):\\n        state = {\\\"complete\\\": set(), \\\"last\\\": None}\\n        for line in open(self.path):\\n            event = json.loads(line)\\n            if event[\\\"type\\\"] == \\\"submit\\\" and event[\\\"success\\\"]:\\n                state[\\\"complete\\\"].add(event[\\\"id\\\"])\\n                state[\\\"last\\\"] = event\\n        return state\\n\\n\\\"\\\"\\\"\\nHere's what the above class is doing:\\n1.\",\r\n",
    "  temperature=0,\r\n",
    "  max_tokens=64,\r\n",
    "  top_p=1.0,\r\n",
    "  frequency_penalty=0.0,\r\n",
    "  presence_penalty=0.0,\r\n",
    "  stop=[\"\\\"\\\"\\\"\"]\r\n",
    ")"
   ],
   "outputs": [],
   "metadata": {}
  }
 ],
 "metadata": {
  "orig_nbformat": 4,
  "language_info": {
   "name": "python"
  }
 },
 "nbformat": 4,
 "nbformat_minor": 2
}