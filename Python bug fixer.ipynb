{
 "cells": [
  {
   "cell_type": "markdown",
   "source": [
    "There's a number of ways of structuring the prompt for checking for bugs. Here we add a comment suggesting that source code is buggy, and then ask codex to generate a fixed code.\r\n",
    "Prompt\r\n",
    "\r\n",
    "##### Fix bugs in the below function\r\n",
    " \r\n",
    "### Buggy Python\r\n",
    "import Random\r\n",
    "a = random.randint(1,12)\r\n",
    "b = random.randint(1,12)\r\n",
    "for i in range(10):\r\n",
    "    question = \"What is \"+a+\" x \"+b+\"? \"\r\n",
    "    answer = input(question)\r\n",
    "    if answer = a*b\r\n",
    "        print (Well done!)\r\n",
    "    else:\r\n",
    "        print(\"No.\")\r\n",
    "    \r\n",
    "### Fixed Python"
   ],
   "metadata": {}
  },
  {
   "cell_type": "markdown",
   "source": [
    "Settings\r\n",
    "Engine\r\n",
    "davinci-codex\r\n",
    "Max tokens\r\n",
    "182\r\n",
    "Temperature\r\n",
    "0\r\n",
    "Top p\r\n",
    "1.0\r\n",
    "Frequency penalty\r\n",
    "0.0\r\n",
    "Presence penalty\r\n",
    "0.0\r\n",
    "Stop sequence\r\n",
    "###"
   ],
   "metadata": {}
  },
  {
   "cell_type": "markdown",
   "source": [
    "import random\r\n",
    "a = random.randint(1,12)\r\n",
    "b = random.randint(1,12)\r\n",
    "for i in range(10):\r\n",
    "    question = \"What is \"+str(a)+\" x \"+str(b)+\"? \"\r\n",
    "    answer = input(question)\r\n",
    "    if answer == str(a*b):\r\n",
    "        print (\"Well done!\")\r\n",
    "    else:\r\n",
    "        print(\"No.\")"
   ],
   "metadata": {}
  },
  {
   "cell_type": "code",
   "execution_count": null,
   "source": [
    "import os\r\n",
    "import openai\r\n",
    "\r\n",
    "openai.api_key = os.getenv(\"OPENAI_API_KEY\")\r\n",
    "\r\n",
    "response = openai.Completion.create(\r\n",
    "  engine=\"davinci-codex\",\r\n",
    "  prompt=\"##### Fix bugs in the below function\\n \\n### Buggy Python\\nimport Random\\na = random.randint(1,12)\\nb = random.randint(1,12)\\nfor i in range(10):\\n    question = \\\"What is \\\"+a+\\\" x \\\"+b+\\\"? \\\"\\n    answer = input(question)\\n    if answer = a*b\\n        print (Well done!)\\n    else:\\n        print(\\\"No.\\\")\\n    \\n### Fixed Python\",\r\n",
    "  temperature=0,\r\n",
    "  max_tokens=182,\r\n",
    "  top_p=1.0,\r\n",
    "  frequency_penalty=0.0,\r\n",
    "  presence_penalty=0.0,\r\n",
    "  stop=[\"###\"]\r\n",
    ")"
   ],
   "outputs": [],
   "metadata": {}
  }
 ],
 "metadata": {
  "orig_nbformat": 4,
  "language_info": {
   "name": "python"
  }
 },
 "nbformat": 4,
 "nbformat_minor": 2
}