{
 "cells": [
  {
   "cell_type": "markdown",
   "source": [
    "Convert simple JavaScript expressions into Python.\r\n",
    "Prompt\r\n",
    "\r\n",
    "#JavaScript to Python:\r\n",
    "JavaScript: \r\n",
    "dogs = [\"bill\", \"joe\", \"carl\"]\r\n",
    "car = []\r\n",
    "dogs.forEach((dog) {\r\n",
    "    car.push(dog);\r\n",
    "});\r\n",
    "\r\n",
    "Python:"
   ],
   "metadata": {}
  },
  {
   "cell_type": "markdown",
   "source": [
    "Settings\r\n",
    "Engine\r\n",
    "davinci-codex\r\n",
    "Max tokens\r\n",
    "64\r\n",
    "Temperature\r\n",
    "0\r\n",
    "Top p\r\n",
    "1.0\r\n",
    "Frequency penalty\r\n",
    "0.0\r\n",
    "Presence penalty\r\n",
    "0.0"
   ],
   "metadata": {}
  },
  {
   "cell_type": "markdown",
   "source": [
    "Sample response\r\n",
    "\r\n",
    "dogs = [\"bill\", \"joe\", \"carl\"]\r\n",
    "car = [dog for dog in dogs]"
   ],
   "metadata": {}
  },
  {
   "cell_type": "code",
   "execution_count": null,
   "source": [
    "import os\r\n",
    "import openai\r\n",
    "\r\n",
    "openai.api_key = os.getenv(\"OPENAI_API_KEY\")\r\n",
    "\r\n",
    "response = openai.Completion.create(\r\n",
    "  engine=\"davinci-codex\",\r\n",
    "  prompt=\"#JavaScript to Python:\\nJavaScript: \\ndogs = [\\\"bill\\\", \\\"joe\\\", \\\"carl\\\"]\\ncar = []\\ndogs.forEach((dog) {\\n    car.push(dog);\\n});\\n\\nPython:\\n\",\r\n",
    "  temperature=0,\r\n",
    "  max_tokens=64,\r\n",
    "  top_p=1.0,\r\n",
    "  frequency_penalty=0.0,\r\n",
    "  presence_penalty=0.0\r\n",
    ")"
   ],
   "outputs": [],
   "metadata": {}
  }
 ],
 "metadata": {
  "orig_nbformat": 4,
  "language_info": {
   "name": "python"
  }
 },
 "nbformat": 4,
 "nbformat_minor": 2
}