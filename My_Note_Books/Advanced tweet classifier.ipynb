{
 "cells": [
  {
   "cell_type": "markdown",
   "source": [
    "This is an advanced prompt for detecting sentiment. It allows you to provide it with a list of status updates and then provide a sentiment for each one.\r\n",
    "Prompt\r\n",
    "\r\n",
    "This is a tweet sentiment classifier\r\n",
    "Tweet: \"I loved the new Batman movie!\"\r\n",
    "Sentiment: Positive\r\n",
    "###\r\n",
    "Tweet: \"I hate it when my phone battery dies\"\r\n",
    "Sentiment: Negative\r\n",
    "###\r\n",
    "Tweet: \"My day has been 👍\"\r\n",
    "Sentiment: Positive\r\n",
    "###\r\n",
    "Tweet: \"This is the link to the article\"\r\n",
    "Sentiment: Neutral\r\n",
    "###\r\n",
    "Tweet text\r\n",
    "\r\n",
    "\r\n",
    "1. \"I loved the new Batman movie!\"\r\n",
    "2. \"I hate it when my phone battery dies\"\r\n",
    "3. \"My day has been 👍\"\r\n",
    "4. \"This is the link to the article\"\r\n",
    "5. \"This new music video blew my mind\"\r\n",
    "\r\n",
    "\r\n",
    "Tweet sentiment ratings:\r\n",
    "1: Positive\r\n",
    "2: Negative\r\n",
    "3: Positive\r\n",
    "4: Neutral\r\n",
    "5: Positive\r\n",
    "\r\n",
    "\r\n",
    "###\r\n",
    "Tweet text\r\n",
    "\r\n",
    "\r\n",
    "1. \"I can't stand homework\"\r\n",
    "2. \"This sucks. I'm bored 😠\"\r\n",
    "3. \"I can't wait for Halloween!!!\"\r\n",
    "4. \"My cat is adorable ❤️❤️\"\r\n",
    "5. \"I hate chocolate\"\r\n",
    "\r\n",
    "\r\n",
    "Tweet sentiment ratings:\r\n",
    "1."
   ],
   "metadata": {}
  },
  {
   "cell_type": "markdown",
   "source": [
    "Settings\r\n",
    "Max tokens\r\n",
    "60\r\n",
    "Temperature\r\n",
    "0.3\r\n",
    "Top p\r\n",
    "1.0\r\n",
    "Frequency penalty\r\n",
    "0.0\r\n",
    "Presence penalty\r\n",
    "0.0\r\n",
    "Stop sequence\r\n",
    "###"
   ],
   "metadata": {}
  },
  {
   "cell_type": "markdown",
   "source": [
    "Sample response\r\n",
    "\r\n",
    "Negative\r\n",
    "2. Negative\r\n",
    "3. Positive\r\n",
    "4. Positive\r\n",
    "5. Negative"
   ],
   "metadata": {}
  },
  {
   "cell_type": "code",
   "execution_count": null,
   "source": [
    "import os\r\n",
    "import openai\r\n",
    "\r\n",
    "openai.api_key = os.getenv(\"OPENAI_API_KEY\")\r\n",
    "\r\n",
    "response = openai.Completion.create(\r\n",
    "  engine=\"davinci\",\r\n",
    "  prompt=\"This is a tweet sentiment classifier\\nTweet: \\\"I loved the new Batman movie!\\\"\\nSentiment: Positive\\n###\\nTweet: \\\"I hate it when my phone battery dies\\\"\\nSentiment: Negative\\n###\\nTweet: \\\"My day has been 👍\\\"\\nSentiment: Positive\\n###\\nTweet: \\\"This is the link to the article\\\"\\nSentiment: Neutral\\n###\\nTweet text\\n\\n\\n1. \\\"I loved the new Batman movie!\\\"\\n2. \\\"I hate it when my phone battery dies\\\"\\n3. \\\"My day has been 👍\\\"\\n4. \\\"This is the link to the article\\\"\\n5. \\\"This new music video blew my mind\\\"\\n\\n\\nTweet sentiment ratings:\\n1: Positive\\n2: Negative\\n3: Positive\\n4: Neutral\\n5: Positive\\n\\n\\n###\\nTweet text\\n\\n\\n1. \\\"I can't stand homework\\\"\\n2. \\\"This sucks. I'm bored 😠\\\"\\n3. \\\"I can't wait for Halloween!!!\\\"\\n4. \\\"My cat is adorable ❤️❤️\\\"\\n5. \\\"I hate chocolate\\\"\\n\\n\\nTweet sentiment ratings:\\n1.\",\r\n",
    "  temperature=0.3,\r\n",
    "  max_tokens=60,\r\n",
    "  top_p=1.0,\r\n",
    "  frequency_penalty=0.0,\r\n",
    "  presence_penalty=0.0,\r\n",
    "  stop=[\"###\"]\r\n",
    ")"
   ],
   "outputs": [],
   "metadata": {}
  }
 ],
 "metadata": {
  "orig_nbformat": 4,
  "language_info": {
   "name": "python"
  }
 },
 "nbformat": 4,
 "nbformat_minor": 2
}