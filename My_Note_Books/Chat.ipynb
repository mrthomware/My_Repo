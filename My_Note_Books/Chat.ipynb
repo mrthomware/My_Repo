{
 "cells": [
  {
   "cell_type": "markdown",
   "source": [
    "Open ended conversation with an AI assistant.\r\n",
    "Prompt\r\n",
    "\r\n",
    "The following is a conversation with an AI assistant. The assistant is helpful, creative, clever, and very friendly.\r\n",
    "\r\n",
    "Human: Hello, who are you?\r\n",
    "AI: I am an AI created by OpenAI. How can I help you today?\r\n",
    "Human: I'd like to cancel my subscription.\r\n",
    "AI:"
   ],
   "metadata": {}
  },
  {
   "cell_type": "markdown",
   "source": [
    "Settings\r\n",
    "Max tokens\r\n",
    "150\r\n",
    "Temperature\r\n",
    "0.9\r\n",
    "Top p\r\n",
    "1\r\n",
    "Frequency penalty\r\n",
    "0.0\r\n",
    "Presence penalty\r\n",
    "0.6\r\n",
    "Stop sequence\r\n",
    "\\nHuman:AI:"
   ],
   "metadata": {}
  },
  {
   "cell_type": "markdown",
   "source": [
    "Sample response\r\n",
    "\r\n",
    "I'm afraid I'm not able to help you with that"
   ],
   "metadata": {}
  },
  {
   "cell_type": "code",
   "execution_count": null,
   "source": [
    "import os\r\n",
    "import openai\r\n",
    "\r\n",
    "openai.api_key = os.getenv(\"OPENAI_API_KEY\")\r\n",
    "\r\n",
    "response = openai.Completion.create(\r\n",
    "  engine=\"davinci\",\r\n",
    "  prompt=\"The following is a conversation with an AI assistant. The assistant is helpful, creative, clever, and very friendly.\\n\\nHuman: Hello, who are you?\\nAI: I am an AI created by OpenAI. How can I help you today?\\nHuman: I'd like to cancel my subscription.\\nAI:\",\r\n",
    "  temperature=0.9,\r\n",
    "  max_tokens=150,\r\n",
    "  top_p=1,\r\n",
    "  frequency_penalty=0.0,\r\n",
    "  presence_penalty=0.6,\r\n",
    "  stop=[\"\\n\", \" Human:\", \" AI:\"]\r\n",
    ")"
   ],
   "outputs": [],
   "metadata": {}
  }
 ],
 "metadata": {
  "orig_nbformat": 4,
  "language_info": {
   "name": "python"
  }
 },
 "nbformat": 4,
 "nbformat_minor": 2
}