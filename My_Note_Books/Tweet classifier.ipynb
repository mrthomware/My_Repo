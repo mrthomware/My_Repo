{
 "cells": [
  {
   "cell_type": "markdown",
   "source": [
    "This is a basic prompt for detecting sentiment.\r\n",
    "Prompt\r\n",
    "\r\n",
    "This is a tweet sentiment classifier\r\n",
    "\r\n",
    "\r\n",
    "Tweet: \"I loved the new Batman movie!\"\r\n",
    "Sentiment: Positive\r\n",
    "###\r\n",
    "Tweet: \"I hate it when my phone battery dies.\"\r\n",
    "Sentiment: Negative\r\n",
    "###\r\n",
    "Tweet: \"My day has been 👍\"\r\n",
    "Sentiment: Positive\r\n",
    "###\r\n",
    "Tweet: \"This is the link to the article\"\r\n",
    "Sentiment: Neutral\r\n",
    "###\r\n",
    "Tweet: \"This new music video blew my mind\"\r\n",
    "Sentiment:"
   ],
   "metadata": {}
  },
  {
   "cell_type": "markdown",
   "source": [
    "Settings\r\n",
    "Max tokens\r\n",
    "60\r\n",
    "Temperature\r\n",
    "0.3\r\n",
    "Top p\r\n",
    "1.0\r\n",
    "Frequency penalty\r\n",
    "0.5\r\n",
    "Presence penalty\r\n",
    "0.0\r\n",
    "Stop sequence\r\n",
    "###"
   ],
   "metadata": {}
  },
  {
   "cell_type": "markdown",
   "source": [
    "Sample response\r\n",
    "\r\n",
    "Positive"
   ],
   "metadata": {}
  },
  {
   "cell_type": "code",
   "execution_count": null,
   "source": [
    "import os\r\n",
    "import openai\r\n",
    "\r\n",
    "openai.api_key = os.getenv(\"OPENAI_API_KEY\")\r\n",
    "\r\n",
    "response = openai.Completion.create(\r\n",
    "  engine=\"davinci\",\r\n",
    "  prompt=\"This is a tweet sentiment classifier\\n\\n\\nTweet: \\\"I loved the new Batman movie!\\\"\\nSentiment: Positive\\n###\\nTweet: \\\"I hate it when my phone battery dies.\\\"\\nSentiment: Negative\\n###\\nTweet: \\\"My day has been 👍\\\"\\nSentiment: Positive\\n###\\nTweet: \\\"This is the link to the article\\\"\\nSentiment: Neutral\\n###\\nTweet: \\\"This new music video blew my mind\\\"\\nSentiment:\",\r\n",
    "  temperature=0.3,\r\n",
    "  max_tokens=60,\r\n",
    "  top_p=1.0,\r\n",
    "  frequency_penalty=0.5,\r\n",
    "  presence_penalty=0.0,\r\n",
    "  stop=[\"###\"]\r\n",
    ")"
   ],
   "outputs": [],
   "metadata": {}
  }
 ],
 "metadata": {
  "orig_nbformat": 4,
  "language_info": {
   "name": "python"
  }
 },
 "nbformat": 4,
 "nbformat_minor": 2
}