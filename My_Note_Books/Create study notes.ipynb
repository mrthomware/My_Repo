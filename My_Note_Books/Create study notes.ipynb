{
 "cells": [
  {
   "cell_type": "markdown",
   "source": [
    "Provide a topic and get study notes.\r\n",
    "Prompt\r\n",
    "\r\n",
    "What are some key points I should know when studying Ancient Rome?\r\n",
    "\r\n",
    "1."
   ],
   "metadata": {}
  },
  {
   "cell_type": "markdown",
   "source": [
    "Settings\r\n",
    "Engine\r\n",
    "davinci-instruct-beta\r\n",
    "Max tokens\r\n",
    "64\r\n",
    "Temperature\r\n",
    "1\r\n",
    "Top p\r\n",
    "1.0\r\n",
    "Frequency penalty\r\n",
    "0.0\r\n",
    "Presence penalty\r\n",
    "0.0"
   ],
   "metadata": {}
  },
  {
   "cell_type": "markdown",
   "source": [
    "Sample response\r\n",
    "\r\n",
    "What were the economic, political, and social structures of Ancient Rome?\r\n",
    "\r\n",
    "2. Who were the emperors of Ancient Rome, and what were some of the important decisions they made?\r\n",
    "\r\n",
    "3. What was common in everyday life during Ancient Rome?"
   ],
   "metadata": {}
  },
  {
   "cell_type": "code",
   "execution_count": null,
   "source": [
    "import os\r\n",
    "import openai\r\n",
    "\r\n",
    "openai.api_key = os.getenv(\"OPENAI_API_KEY\")\r\n",
    "\r\n",
    "response = openai.Completion.create(\r\n",
    "  engine=\"davinci-instruct-beta\",\r\n",
    "  prompt=\"What are some key points I should know when studying Ancient Rome?\\n\\n1.\",\r\n",
    "  temperature=1,\r\n",
    "  max_tokens=64,\r\n",
    "  top_p=1.0,\r\n",
    "  frequency_penalty=0.0,\r\n",
    "  presence_penalty=0.0\r\n",
    ")"
   ],
   "outputs": [],
   "metadata": {}
  }
 ],
 "metadata": {
  "orig_nbformat": 4,
  "language_info": {
   "name": "python"
  }
 },
 "nbformat": 4,
 "nbformat_minor": 2
}