{
 "cells": [
  {
   "cell_type": "markdown",
   "source": [
    "Translate natural language to SQL queries.\r\n",
    "Prompt\r\n",
    "\r\n",
    "### Postgres SQL tables, with their properties:\r\n",
    "#\r\n",
    "# Employee(id, name, department_id)\r\n",
    "# Department(id, name, address)\r\n",
    "# Salary_Payments(id, employee_id, amount, date)\r\n",
    "#\r\n",
    "### A query to list the names of the departments which employed more than 10 employees in the last 3 months\r\n",
    "SELECT"
   ],
   "metadata": {}
  },
  {
   "cell_type": "markdown",
   "source": [
    "Settings\r\n",
    "Engine\r\n",
    "davinci-codex\r\n",
    "Max tokens\r\n",
    "150\r\n",
    "Temperature\r\n",
    "0\r\n",
    "Top p\r\n",
    "1.0\r\n",
    "Frequency penalty\r\n",
    "0.0\r\n",
    "Presence penalty\r\n",
    "0.0\r\n",
    "Stop sequence\r\n",
    "#;"
   ],
   "metadata": {}
  },
  {
   "cell_type": "markdown",
   "source": [
    "Sample response\r\n",
    "\r\n",
    " DISTINCT department.name \r\n",
    "FROM department \r\n",
    "JOIN employee ON department.id = employee.department_id \r\n",
    "JOIN salary_payments ON employee.id = salary_payments.employee_id \r\n",
    "WHERE salary_payments.date > (CURRENT_DATE - INTERVAL '3 months') \r\n",
    "GROUP BY department.name \r\n",
    "HAVING COUNT(employee.id) > 10;"
   ],
   "metadata": {}
  },
  {
   "cell_type": "code",
   "execution_count": null,
   "source": [
    "import os\r\n",
    "import openai\r\n",
    "\r\n",
    "openai.api_key = os.getenv(\"OPENAI_API_KEY\")\r\n",
    "\r\n",
    "response = openai.Completion.create(\r\n",
    "  engine=\"davinci-codex\",\r\n",
    "  prompt=\"### Postgres SQL tables, with their properties:\\n#\\n# Employee(id, name, department_id)\\n# Department(id, name, address)\\n# Salary_Payments(id, employee_id, amount, date)\\n#\\n### A query to list the names of the departments which employed more than 10 employees in the last 3 months\\nSELECT\",\r\n",
    "  temperature=0,\r\n",
    "  max_tokens=150,\r\n",
    "  top_p=1.0,\r\n",
    "  frequency_penalty=0.0,\r\n",
    "  presence_penalty=0.0,\r\n",
    "  stop=[\"#\", \";\"]\r\n",
    ")"
   ],
   "outputs": [],
   "metadata": {}
  }
 ],
 "metadata": {
  "orig_nbformat": 4,
  "language_info": {
   "name": "python"
  }
 },
 "nbformat": 4,
 "nbformat_minor": 2
}