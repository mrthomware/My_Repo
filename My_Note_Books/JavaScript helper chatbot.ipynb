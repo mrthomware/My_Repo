{
 "cells": [
  {
   "cell_type": "markdown",
   "source": [
    "This is a message-style chatbot that can aswer questions about using JavaScript. It uses a few examples to get the conversation started.\r\n",
    "Prompt\r\n",
    "\r\n",
    "JavaScript chatbot\r\n",
    "\r\n",
    "\r\n",
    "You: How do I combine arrays?\r\n",
    "JavaScript chatbot: You can use the concat() method.\r\n",
    "You: How do make an alert appear after 10 seconds?\r\n",
    "JavaScript chatbot:"
   ],
   "metadata": {}
  },
  {
   "cell_type": "markdown",
   "source": [
    "Settings\r\n",
    "Engine\r\n",
    "davinci-codex\r\n",
    "Max tokens\r\n",
    "60\r\n",
    "Temperature\r\n",
    "0\r\n",
    "Top p\r\n",
    "1.0\r\n",
    "Frequency penalty\r\n",
    "0.5\r\n",
    "Presence penalty\r\n",
    "0.0\r\n",
    "Stop sequence\r\n",
    "You:"
   ],
   "metadata": {}
  },
  {
   "cell_type": "markdown",
   "source": [
    "Sample response\r\n",
    "\r\n",
    "You can use the setTimeout() method."
   ],
   "metadata": {}
  },
  {
   "cell_type": "code",
   "execution_count": null,
   "source": [
    "import os\r\n",
    "import openai\r\n",
    "\r\n",
    "openai.api_key = os.getenv(\"OPENAI_API_KEY\")\r\n",
    "\r\n",
    "response = openai.Completion.create(\r\n",
    "  engine=\"davinci-codex\",\r\n",
    "  prompt=\"JavaScript chatbot\\n\\n\\nYou: How do I combine arrays?\\nJavaScript chatbot: You can use the concat() method.\\nYou: How do make an alert appear after 10 seconds?\\nJavaScript chatbot:\",\r\n",
    "  temperature=0,\r\n",
    "  max_tokens=60,\r\n",
    "  top_p=1.0,\r\n",
    "  frequency_penalty=0.5,\r\n",
    "  presence_penalty=0.0,\r\n",
    "  stop=[\"You:\"]\r\n",
    ")"
   ],
   "outputs": [],
   "metadata": {}
  }
 ],
 "metadata": {
  "orig_nbformat": 4,
  "language_info": {
   "name": "python"
  }
 },
 "nbformat": 4,
 "nbformat_minor": 2
}