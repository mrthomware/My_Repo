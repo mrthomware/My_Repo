{
 "cells": [
  {
   "cell_type": "markdown",
   "source": [
    "Turn a few words into a restaurant review.\r\n",
    "Prompt\r\n",
    "\r\n",
    "Write a restaurant review based on these notes:\r\n",
    "\r\n",
    "Name: The Blue Wharf\r\n",
    "Lobster great, noisy, service polite, prices good.\r\n",
    "\r\n",
    "Review:"
   ],
   "metadata": {}
  },
  {
   "cell_type": "markdown",
   "source": [
    "Settings\r\n",
    "Engine\r\n",
    "davinci-instruct-beta\r\n",
    "Max tokens\r\n",
    "64\r\n",
    "Temperature\r\n",
    "0.3\r\n",
    "Top p\r\n",
    "1.0\r\n",
    "Frequency penalty\r\n",
    "0.0\r\n",
    "Presence penalty\r\n",
    "0.0"
   ],
   "metadata": {}
  },
  {
   "cell_type": "markdown",
   "source": [
    "Sample response\r\n",
    "\r\n",
    "The Blue Wharf is a good place to go for good food. It's not as expensive as other restaurants, and the lobster is fantastic. The noise level is a little high, and the service is polite."
   ],
   "metadata": {}
  },
  {
   "cell_type": "code",
   "execution_count": null,
   "source": [
    "import os\r\n",
    "import openai\r\n",
    "\r\n",
    "openai.api_key = os.getenv(\"OPENAI_API_KEY\")\r\n",
    "\r\n",
    "response = openai.Completion.create(\r\n",
    "  engine=\"davinci-instruct-beta\",\r\n",
    "  prompt=\"Write a restaurant review based on these notes:\\n\\nName: The Blue Wharf\\nLobster great, noisy, service polite, prices good.\\n\\nReview:\",\r\n",
    "  temperature=0.3,\r\n",
    "  max_tokens=64,\r\n",
    "  top_p=1.0,\r\n",
    "  frequency_penalty=0.0,\r\n",
    "  presence_penalty=0.0\r\n",
    ")"
   ],
   "outputs": [],
   "metadata": {}
  }
 ],
 "metadata": {
  "orig_nbformat": 4,
  "language_info": {
   "name": "python"
  }
 },
 "nbformat": 4,
 "nbformat_minor": 2
}