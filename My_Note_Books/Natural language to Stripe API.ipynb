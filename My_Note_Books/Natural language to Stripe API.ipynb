{
 "cells": [
  {
   "cell_type": "markdown",
   "source": [
    "Create code to call the Stripe API using natural language.\r\n",
    "Prompt\r\n",
    "\r\n",
    "\"\"\"\r\n",
    "Util exposes the following:\r\n",
    "\r\n",
    "util.stripe() -> authenticates & returns the stripe module; usable as stripe.Charge.create etc\r\n",
    "\"\"\"\r\n",
    "import util\r\n",
    "\"\"\"\r\n",
    "Create a Stripe token using the users credit card: 5555-4444-3333-2222, expiration date 12 / 28, cvc 521\r\n",
    "\"\"\""
   ],
   "metadata": {}
  },
  {
   "cell_type": "markdown",
   "source": [
    "Settings\r\n",
    "Engine\r\n",
    "davinci-codex\r\n",
    "Max tokens\r\n",
    "100\r\n",
    "Temperature\r\n",
    "0\r\n",
    "Top p\r\n",
    "1.0\r\n",
    "Frequency penalty\r\n",
    "0.0\r\n",
    "Presence penalty\r\n",
    "0.0\r\n",
    "Stop sequence\r\n",
    "\"\"\""
   ],
   "metadata": {}
  },
  {
   "cell_type": "markdown",
   "source": [
    "Sample response\r\n",
    "\r\n",
    "token = util.stripe().Token.create(\r\n",
    "card={\r\n",
    "    \"number\": '5555-4444-3333-2222',\r\n",
    "    \"exp_month\": 12,\r\n",
    "    \"exp_year\": 28,\r\n",
    "    \"cvc\": '521'\r\n",
    "},\r\n",
    ")\r\n",
    "\r\n",
    "\"\"\"      "
   ],
   "metadata": {}
  },
  {
   "cell_type": "code",
   "execution_count": null,
   "source": [
    "import os\r\n",
    "import openai\r\n",
    "\r\n",
    "openai.api_key = os.getenv(\"OPENAI_API_KEY\")\r\n",
    "\r\n",
    "response = openai.Completion.create(\r\n",
    "  engine=\"davinci-codex\",\r\n",
    "  prompt=\"\\\"\\\"\\\"\\nUtil exposes the following:\\n\\nutil.stripe() -> authenticates & returns the stripe module; usable as stripe.Charge.create etc\\n\\\"\\\"\\\"\\nimport util\\n\\\"\\\"\\\"\\nCreate a Stripe token using the users credit card: 5555-4444-3333-2222, expiration date 12 / 28, cvc 521\\n\\\"\\\"\\\"\",\r\n",
    "  temperature=0,\r\n",
    "  max_tokens=100,\r\n",
    "  top_p=1.0,\r\n",
    "  frequency_penalty=0.0,\r\n",
    "  presence_penalty=0.0,\r\n",
    "  stop=[\"\\\"\\\"\\\"\"]\r\n",
    ")"
   ],
   "outputs": [],
   "metadata": {}
  }
 ],
 "metadata": {
  "orig_nbformat": 4,
  "language_info": {
   "name": "python"
  }
 },
 "nbformat": 4,
 "nbformat_minor": 2
}