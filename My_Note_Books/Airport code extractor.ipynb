{
 "cells": [
  {
   "cell_type": "markdown",
   "source": [
    "A simple prompt for extracting airport codes from text.\r\n",
    "Prompt\r\n",
    "\r\n",
    "Airport code extractor:\r\n",
    "\r\n",
    "Text: \"I want to fly form Los Angeles to Miami.\"\r\n",
    "Airport codes: LAX, MIA\r\n",
    "\r\n",
    "Text: \"I want to fly from Orlando to Boston\"\r\n",
    "Airport codes:"
   ],
   "metadata": {}
  },
  {
   "cell_type": "markdown",
   "source": [
    "Settings\r\n",
    "Engine\r\n",
    "davinci-instruct-beta\r\n",
    "Max tokens\r\n",
    "60\r\n",
    "Temperature\r\n",
    "0.3\r\n",
    "Top p\r\n",
    "1.0\r\n",
    "Frequency penalty\r\n",
    "0.0\r\n",
    "Presence penalty\r\n",
    "0.0\r\n",
    "Stop sequence\r\n",
    "\\n"
   ],
   "metadata": {}
  },
  {
   "cell_type": "markdown",
   "source": [
    "Sample response\r\n",
    "\r\n",
    "MCO, BOS"
   ],
   "metadata": {}
  },
  {
   "cell_type": "code",
   "execution_count": null,
   "source": [
    "import os\r\n",
    "import openai\r\n",
    "\r\n",
    "openai.api_key = os.getenv(\"OPENAI_API_KEY\")\r\n",
    "\r\n",
    "response = openai.Completion.create(\r\n",
    "  engine=\"davinci-instruct-beta\",\r\n",
    "  prompt=\"Airport code extractor:\\n\\nText: \\\"I want to fly form Los Angeles to Miami.\\\"\\nAirport codes: LAX, MIA\\n\\nText: \\\"I want to fly from Orlando to Boston\\\"\\nAirport codes:\",\r\n",
    "  temperature=0.3,\r\n",
    "  max_tokens=60,\r\n",
    "  top_p=1.0,\r\n",
    "  frequency_penalty=0.0,\r\n",
    "  presence_penalty=0.0,\r\n",
    "  stop=[\"\\n\"]\r\n",
    ")"
   ],
   "outputs": [],
   "metadata": {}
  }
 ],
 "metadata": {
  "orig_nbformat": 4,
  "language_info": {
   "name": "python"
  }
 },
 "nbformat": 4,
 "nbformat_minor": 2
}