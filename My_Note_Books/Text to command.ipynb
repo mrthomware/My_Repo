{
 "cells": [
  {
   "cell_type": "markdown",
   "source": [
    "This prompt translates text into programmatic commands.\r\n",
    "Prompt\r\n",
    "\r\n",
    "Q: Ask Constance if we need some bread\r\n",
    "A: send-msg `find constance` Do we need some bread?\r\n",
    "Q: Send a message to Greg to figure out if things are ready for Wednesday.\r\n",
    "A: send-msg `find greg` Is everything ready for Wednesday?\r\n",
    "Q: Ask Ilya if we're still having our meeting this evening\r\n",
    "A: send-msg `find ilya` Are we still having a meeting this evening?\r\n",
    "Q: Contact the ski store and figure out if I can get my skis fixed before I leave on Thursday\r\n",
    "A: send-msg `find ski store` Would it be possible to get my skis fixed before I leave on Thursday?\r\n",
    "Q: Thank Nicolas for lunch\r\n",
    "A: send-msg `find nicolas` Thank you for lunch!\r\n",
    "Q: Tell Constance that I won't be home before 19:30 tonight — unmovable meeting.\r\n",
    "A: send-msg `find constance` I won't be home before 19:30 tonight. I have a meeting I can't move.\r\n",
    "Q: Let Jessie know I'll be at the meeting.\r\n",
    "A:"
   ],
   "metadata": {}
  },
  {
   "cell_type": "markdown",
   "source": [
    "Settings\r\n",
    "Max tokens\r\n",
    "100\r\n",
    "Temperature\r\n",
    "0.5\r\n",
    "Top p\r\n",
    "1.0\r\n",
    "Frequency penalty\r\n",
    "0.2\r\n",
    "Presence penalty\r\n",
    "0.0\r\n",
    "Stop sequence\r\n",
    "\\n"
   ],
   "metadata": {}
  },
  {
   "cell_type": "markdown",
   "source": [
    "Sample response\r\n",
    "\r\n",
    "send-msg `find jessie` I'll be at the meeting."
   ],
   "metadata": {}
  },
  {
   "cell_type": "code",
   "execution_count": null,
   "source": [
    "import os\r\n",
    "import openai\r\n",
    "\r\n",
    "openai.api_key = os.getenv(\"OPENAI_API_KEY\")\r\n",
    "\r\n",
    "response = openai.Completion.create(\r\n",
    "  engine=\"davinci\",\r\n",
    "  prompt=\"Q: Ask Constance if we need some bread\\nA: send-msg `find constance` Do we need some bread?\\nQ: Send a message to Greg to figure out if things are ready for Wednesday.\\nA: send-msg `find greg` Is everything ready for Wednesday?\\nQ: Ask Ilya if we're still having our meeting this evening\\nA: send-msg `find ilya` Are we still having a meeting this evening?\\nQ: Contact the ski store and figure out if I can get my skis fixed before I leave on Thursday\\nA: send-msg `find ski store` Would it be possible to get my skis fixed before I leave on Thursday?\\nQ: Thank Nicolas for lunch\\nA: send-msg `find nicolas` Thank you for lunch!\\nQ: Tell Constance that I won't be home before 19:30 tonight — unmovable meeting.\\nA: send-msg `find constance` I won't be home before 19:30 tonight. I have a meeting I can't move.\\nQ: Let Jessie know I'll be at the meeting.\\nA:\",\r\n",
    "  temperature=0.5,\r\n",
    "  max_tokens=100,\r\n",
    "  top_p=1.0,\r\n",
    "  frequency_penalty=0.2,\r\n",
    "  presence_penalty=0.0,\r\n",
    "  stop=[\"\\n\"]\r\n",
    ")"
   ],
   "outputs": [],
   "metadata": {}
  }
 ],
 "metadata": {
  "orig_nbformat": 4,
  "language_info": {
   "name": "python"
  }
 },
 "nbformat": 4,
 "nbformat_minor": 2
}