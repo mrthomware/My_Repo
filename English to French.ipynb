{
 "cells": [
  {
   "cell_type": "markdown",
   "source": [
    "This prompt translates English text into French.\r\n",
    "Prompt\r\n",
    "\r\n",
    "English: I do not speak French.\r\n",
    "French: Je ne parle pas français.\r\n",
    "\r\n",
    "English: See you later!\r\n",
    "French: À tout à l'heure!\r\n",
    "\r\n",
    "English: Where is a good restaurant?\r\n",
    "French: Où est un bon restaurant?\r\n",
    "\r\n",
    "English: What rooms do you have available?\r\n",
    "French: Quelles chambres avez-vous de disponible?\r\n",
    "\r\n",
    "English: Where is the restroom?\r\n",
    "French:"
   ],
   "metadata": {}
  },
  {
   "cell_type": "markdown",
   "source": [
    "Settings\r\n",
    "Max tokens\r\n",
    "100\r\n",
    "Temperature\r\n",
    "0.5\r\n",
    "Top p\r\n",
    "1.0\r\n",
    "Frequency penalty\r\n",
    "0.0\r\n",
    "Presence penalty\r\n",
    "0.0\r\n",
    "Stop sequence\r\n",
    "\\n"
   ],
   "metadata": {}
  },
  {
   "cell_type": "markdown",
   "source": [
    "Sample response\r\n",
    "\r\n",
    "Où est les toilettes?"
   ],
   "metadata": {}
  },
  {
   "cell_type": "code",
   "execution_count": null,
   "source": [
    "import os\r\n",
    "import openai\r\n",
    "\r\n",
    "openai.api_key = os.getenv(\"OPENAI_API_KEY\")\r\n",
    "\r\n",
    "response = openai.Completion.create(\r\n",
    "  engine=\"davinci\",\r\n",
    "  prompt=\"English: I do not speak French.\\nFrench: Je ne parle pas français.\\n\\nEnglish: See you later!\\nFrench: À tout à l'heure!\\n\\nEnglish: Where is a good restaurant?\\nFrench: Où est un bon restaurant?\\n\\nEnglish: What rooms do you have available?\\nFrench: Quelles chambres avez-vous de disponible?\\n\\nEnglish: Where is the restroom?\\nFrench:\",\r\n",
    "  temperature=0.5,\r\n",
    "  max_tokens=100,\r\n",
    "  top_p=1.0,\r\n",
    "  frequency_penalty=0.0,\r\n",
    "  presence_penalty=0.0,\r\n",
    "  stop=[\"\\n\"]\r\n",
    ")"
   ],
   "outputs": [],
   "metadata": {}
  }
 ],
 "metadata": {
  "orig_nbformat": 4,
  "language_info": {
   "name": "python"
  }
 },
 "nbformat": 4,
 "nbformat_minor": 2
}