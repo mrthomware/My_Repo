{
 "cells": [
  {
   "cell_type": "markdown",
   "source": [
    "Create analogies. Modified from a community prompt to require fewer examples.\r\n",
    "Prompt\r\n",
    "\r\n",
    "Ideas are like balloons in that: they need effort to realize their potential.\r\n",
    "\r\n",
    "Questions are arrows in that:"
   ],
   "metadata": {}
  },
  {
   "cell_type": "markdown",
   "source": [
    "Settings\r\n",
    "Max tokens\r\n",
    "60\r\n",
    "Temperature\r\n",
    "0.5\r\n",
    "Top p\r\n",
    "1.0\r\n",
    "Frequency penalty\r\n",
    "0.0\r\n",
    "Presence penalty\r\n",
    "0.0\r\n",
    "Stop sequence\r\n",
    "\\n"
   ],
   "metadata": {}
  },
  {
   "cell_type": "markdown",
   "source": [
    "Sample response\r\n",
    "\r\n",
    "they need a target to be effective."
   ],
   "metadata": {}
  },
  {
   "cell_type": "code",
   "execution_count": null,
   "source": [
    "import os\r\n",
    "import openai\r\n",
    "\r\n",
    "openai.api_key = os.getenv(\"OPENAI_API_KEY\")\r\n",
    "\r\n",
    "response = openai.Completion.create(\r\n",
    "  engine=\"davinci\",\r\n",
    "  prompt=\"Ideas are like balloons in that: they need effort to realize their potential.\\n\\nQuestions are arrows in that:\",\r\n",
    "  temperature=0.5,\r\n",
    "  max_tokens=60,\r\n",
    "  top_p=1.0,\r\n",
    "  frequency_penalty=0.0,\r\n",
    "  presence_penalty=0.0,\r\n",
    "  stop=[\"\\n\"]\r\n",
    ")"
   ],
   "outputs": [],
   "metadata": {}
  }
 ],
 "metadata": {
  "orig_nbformat": 4,
  "language_info": {
   "name": "python"
  }
 },
 "nbformat": 4,
 "nbformat_minor": 2
}