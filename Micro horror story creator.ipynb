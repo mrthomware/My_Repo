{
 "cells": [
  {
   "cell_type": "markdown",
   "source": [
    "This prompt creates two to three sentence short horror stories from a topic input.\r\n",
    "Prompt\r\n",
    "\r\n",
    "Topic: Breakfast\r\n",
    "Two-Sentence Horror Story: He always stops crying when I pour the milk on his cereal. I just have to remember not to let him see his face on the carton.\r\n",
    "###\r\n",
    "Topic: Wind\r\n",
    "Two-Sentence Horror Story:"
   ],
   "metadata": {}
  },
  {
   "cell_type": "markdown",
   "source": [
    "Settings\r\n",
    "Max tokens\r\n",
    "60\r\n",
    "Temperature\r\n",
    "0.5\r\n",
    "Top p\r\n",
    "1.0\r\n",
    "Frequency penalty\r\n",
    "0.5\r\n",
    "Presence penalty\r\n",
    "0.0\r\n",
    "Stop sequence\r\n",
    "###"
   ],
   "metadata": {}
  },
  {
   "cell_type": "markdown",
   "source": [
    "Sample response\r\n",
    "\r\n",
    "I've never seen the wind before. I just know that it's out there, and it's coming for me."
   ],
   "metadata": {}
  },
  {
   "cell_type": "code",
   "execution_count": null,
   "source": [
    "import os\r\n",
    "import openai\r\n",
    "\r\n",
    "openai.api_key = os.getenv(\"OPENAI_API_KEY\")\r\n",
    "\r\n",
    "response = openai.Completion.create(\r\n",
    "  engine=\"davinci\",\r\n",
    "  prompt=\"Topic: Breakfast\\nTwo-Sentence Horror Story: He always stops crying when I pour the milk on his cereal. I just have to remember not to let him see his face on the carton.\\n###\\nTopic: Wind\\nTwo-Sentence Horror Story:\",\r\n",
    "  temperature=0.5,\r\n",
    "  max_tokens=60,\r\n",
    "  top_p=1.0,\r\n",
    "  frequency_penalty=0.5,\r\n",
    "  presence_penalty=0.0,\r\n",
    "  stop=[\"###\"]\r\n",
    ")"
   ],
   "outputs": [],
   "metadata": {}
  }
 ],
 "metadata": {
  "orig_nbformat": 4,
  "language_info": {
   "name": "python"
  }
 },
 "nbformat": 4,
 "nbformat_minor": 2
}