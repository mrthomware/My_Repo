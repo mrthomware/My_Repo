{
 "cells": [
  {
   "cell_type": "markdown",
   "source": [
    "This makes a list of science fiction books and stops when it reaches #10.\r\n",
    "Prompt\r\n",
    "\r\n",
    "Science fiction books\r\n",
    "\r\n",
    "\r\n",
    "1. Dune by Frank Herbert\r\n",
    "2."
   ],
   "metadata": {}
  },
  {
   "cell_type": "markdown",
   "source": [
    "Settings\r\n",
    "Max tokens\r\n",
    "200\r\n",
    "Temperature\r\n",
    "0.5\r\n",
    "Top p\r\n",
    "1.0\r\n",
    "Frequency penalty\r\n",
    "0.52\r\n",
    "Presence penalty\r\n",
    "0.5\r\n",
    "Stop sequence\r\n",
    "11."
   ],
   "metadata": {}
  },
  {
   "cell_type": "markdown",
   "source": [
    "Sample response\r\n",
    "\r\n",
    "Mission of Gravity by Hal Clement\r\n",
    "3. Cities in Flight by James Blish\r\n",
    "4. Stranger in a Strange Land by Robert A. Heinlein\r\n",
    "5. More Than Human by Theodore Sturgeon"
   ],
   "metadata": {}
  },
  {
   "cell_type": "code",
   "execution_count": null,
   "source": [
    "import os\r\n",
    "import openai\r\n",
    "\r\n",
    "openai.api_key = os.getenv(\"OPENAI_API_KEY\")\r\n",
    "\r\n",
    "response = openai.Completion.create(\r\n",
    "  engine=\"davinci\",\r\n",
    "  prompt=\"Science fiction books\\n\\n\\n1. Dune by Frank Herbert\\n2.\",\r\n",
    "  temperature=0.5,\r\n",
    "  max_tokens=200,\r\n",
    "  top_p=1.0,\r\n",
    "  frequency_penalty=0.52,\r\n",
    "  presence_penalty=0.5,\r\n",
    "  stop=[\"11.\"]\r\n",
    ")"
   ],
   "outputs": [],
   "metadata": {}
  }
 ],
 "metadata": {
  "orig_nbformat": 4,
  "language_info": {
   "name": "python"
  }
 },
 "nbformat": 4,
 "nbformat_minor": 2
}