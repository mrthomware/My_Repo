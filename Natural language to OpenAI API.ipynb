{
 "cells": [
  {
   "cell_type": "markdown",
   "source": [
    "Create code to call to the OpenAI API using a natural language instruction.\r\n",
    "Prompt\r\n",
    "\r\n",
    "\"\"\"\r\n",
    "Util exposes the following:\r\n",
    "util.openai() -> authenticates & returns the openai module, which has the following functions:\r\n",
    "openai.Completion.create(\r\n",
    "    prompt=\"<my prompt>\", # The prompt to start completing from\r\n",
    "    max_tokens=123, # The max number of tokens to generate\r\n",
    "    temperature=1.0 # A measure of randomness\r\n",
    "    echo=True, # Whether to return the prompt in addition to the generated completion\r\n",
    ")\r\n",
    "\"\"\"\r\n",
    "import util\r\n",
    "\"\"\"\r\n",
    "Create an OpenAI completion starting from the prompt \"Once upon an AI\", no more than 5 tokens. Does not include the prompt.\r\n",
    "\"\"\""
   ],
   "metadata": {}
  },
  {
   "cell_type": "markdown",
   "source": [
    "Settings\r\n",
    "Engine\r\n",
    "davinci-codex\r\n",
    "Max tokens\r\n",
    "64\r\n",
    "Temperature\r\n",
    "0\r\n",
    "Top p\r\n",
    "1.0\r\n",
    "Frequency penalty\r\n",
    "0.0\r\n",
    "Presence penalty\r\n",
    "0.0\r\n",
    "Stop sequence\r\n",
    "\"\"\""
   ],
   "metadata": {}
  },
  {
   "cell_type": "markdown",
   "source": [
    "Sample response\r\n",
    "\r\n",
    "completion = util.openai().Completion.create(\r\n",
    "prompt=\"Once upon an AI\",\r\n",
    "max_tokens=5,\r\n",
    "temperature=1.0,\r\n",
    "echo=False,\r\n",
    ")\r\n",
    "print(completion)\r\n",
    "\"\"\""
   ],
   "metadata": {}
  },
  {
   "cell_type": "code",
   "execution_count": null,
   "source": [
    "import os\r\n",
    "import openai\r\n",
    "\r\n",
    "openai.api_key = os.getenv(\"OPENAI_API_KEY\")\r\n",
    "\r\n",
    "response = openai.Completion.create(\r\n",
    "  engine=\"davinci-codex\",\r\n",
    "  prompt=\"\\\"\\\"\\\"\\nUtil exposes the following:\\nutil.openai() -> authenticates & returns the openai module, which has the following functions:\\nopenai.Completion.create(\\n    prompt=\\\"<my prompt>\\\", # The prompt to start completing from\\n    max_tokens=123, # The max number of tokens to generate\\n    temperature=1.0 # A measure of randomness\\n    echo=True, # Whether to return the prompt in addition to the generated completion\\n)\\n\\\"\\\"\\\"\\nimport util\\n\\\"\\\"\\\"\\nCreate an OpenAI completion starting from the prompt \\\"Once upon an AI\\\", no more than 5 tokens. Does not include the prompt.\\n\\\"\\\"\\\"\\n\",\r\n",
    "  temperature=0,\r\n",
    "  max_tokens=64,\r\n",
    "  top_p=1.0,\r\n",
    "  frequency_penalty=0.0,\r\n",
    "  presence_penalty=0.0,\r\n",
    "  stop=[\"\\\"\\\"\\\"\"]\r\n",
    ")"
   ],
   "outputs": [],
   "metadata": {}
  }
 ],
 "metadata": {
  "orig_nbformat": 4,
  "language_info": {
   "name": "python"
  }
 },
 "nbformat": 4,
 "nbformat_minor": 2
}