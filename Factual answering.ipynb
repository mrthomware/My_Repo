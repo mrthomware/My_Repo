{
 "cells": [
  {
   "cell_type": "markdown",
   "source": [
    "This prompt helps guide the model towards factual answering by showing it how to respond to questions that fall outside its knowledge base. Using a '?' to indicate a response to words and phrases that it doesn't know provides a natural response that seems to work better than more abstract replies.\r\n",
    "Prompt\r\n",
    "\r\n",
    "Q: Who is Batman?\r\n",
    "A: Batman is a fictional comic book character.\r\n",
    "###\r\n",
    "Q: What is torsalplexity?\r\n",
    "A: ?\r\n",
    "###\r\n",
    "Q: What is Devz9?\r\n",
    "A: ?\r\n",
    "###\r\n",
    "Q: Who is George Lucas?\r\n",
    "A: George Lucas is American film director and producer famous for creating Star Wars.\r\n",
    "###\r\n",
    "Q: What is the capital of California?\r\n",
    "A: Sacramento.\r\n",
    "###\r\n",
    "Q: What orbits the Earth?\r\n",
    "A: The Moon.\r\n",
    "###\r\n",
    "Q: Who is Fred Rickerson?\r\n",
    "A: ?\r\n",
    "###\r\n",
    "Q: What is an atom?\r\n",
    "A: An atom is a tiny particle that makes up everything.\r\n",
    "###\r\n",
    "Q: Who is Alvan Muntz?\r\n",
    "A: ?\r\n",
    "###\r\n",
    "Q: What is Kozar-09?\r\n",
    "A: ?\r\n",
    "###\r\n",
    "Q: How many moons does Mars have?\r\n",
    "A: Two, Phobos and Deimos.\r\n",
    "###\r\n",
    "Q: What's a language model?\r\n",
    "A:"
   ],
   "metadata": {}
  },
  {
   "cell_type": "markdown",
   "source": [
    "Settings\r\n",
    "Max tokens\r\n",
    "60\r\n",
    "Temperature\r\n",
    "0\r\n",
    "Top p\r\n",
    "1.0\r\n",
    "Frequency penalty\r\n",
    "0.0\r\n",
    "Presence penalty\r\n",
    "0.0\r\n",
    "Stop sequence\r\n",
    "###"
   ],
   "metadata": {}
  },
  {
   "cell_type": "markdown",
   "source": [
    "Sample response\r\n",
    "\r\n",
    "A language model is a statistical model that describes the probability of a word given a context."
   ],
   "metadata": {}
  },
  {
   "cell_type": "code",
   "execution_count": null,
   "source": [
    "import os\r\n",
    "import openai\r\n",
    "\r\n",
    "openai.api_key = os.getenv(\"OPENAI_API_KEY\")\r\n",
    "\r\n",
    "response = openai.Completion.create(\r\n",
    "  engine=\"davinci\",\r\n",
    "  prompt=\"Q: Who is Batman?\\nA: Batman is a fictional comic book character.\\n###\\nQ: What is torsalplexity?\\nA: ?\\n###\\nQ: What is Devz9?\\nA: ?\\n###\\nQ: Who is George Lucas?\\nA: George Lucas is American film director and producer famous for creating Star Wars.\\n###\\nQ: What is the capital of California?\\nA: Sacramento.\\n###\\nQ: What orbits the Earth?\\nA: The Moon.\\n###\\nQ: Who is Fred Rickerson?\\nA: ?\\n###\\nQ: What is an atom?\\nA: An atom is a tiny particle that makes up everything.\\n###\\nQ: Who is Alvan Muntz?\\nA: ?\\n###\\nQ: What is Kozar-09?\\nA: ?\\n###\\nQ: How many moons does Mars have?\\nA: Two, Phobos and Deimos.\\n###\\nQ: What's a language model?\\nA:\",\r\n",
    "  temperature=0,\r\n",
    "  max_tokens=60,\r\n",
    "  top_p=1.0,\r\n",
    "  frequency_penalty=0.0,\r\n",
    "  presence_penalty=0.0,\r\n",
    "  stop=[\"###\"]\r\n",
    ")"
   ],
   "outputs": [],
   "metadata": {}
  }
 ],
 "metadata": {
  "orig_nbformat": 4,
  "language_info": {
   "name": "python"
  }
 },
 "nbformat": 4,
 "nbformat_minor": 2
}