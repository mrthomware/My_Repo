{
 "cells": [
  {
   "cell_type": "markdown",
   "source": [
    "Create product names from examples words. Influenced by a community prompt.\r\n",
    "Prompt\r\n",
    "\r\n",
    "This is a product name generator\r\n",
    "\r\n",
    "Product description: A home milkshake maker\r\n",
    "Seed words: fast, healthy, compact\r\n",
    "Product names: HomeShaker, Fit Shaker, QuickShake, Shake Maker\r\n",
    "\r\n",
    "Product description: A pair of shoes that can fit any foot size.\r\n",
    "Seed words: adaptable, fit\r\n",
    "Product names:"
   ],
   "metadata": {}
  },
  {
   "cell_type": "markdown",
   "source": [
    "Settings\r\n",
    "Max tokens\r\n",
    "60\r\n",
    "Temperature\r\n",
    "0.5\r\n",
    "Top p\r\n",
    "1.0\r\n",
    "Frequency penalty\r\n",
    "0.0\r\n",
    "Presence penalty\r\n",
    "0.0\r\n",
    "Stop sequence\r\n",
    "\\n"
   ],
   "metadata": {}
  },
  {
   "cell_type": "markdown",
   "source": [
    "Sample response\r\n",
    "\r\n",
    "CustomShoes, InstantFlex, SizingShoes, QuickFlex"
   ],
   "metadata": {}
  },
  {
   "cell_type": "code",
   "execution_count": null,
   "source": [
    "import os\r\n",
    "import openai\r\n",
    "\r\n",
    "openai.api_key = os.getenv(\"OPENAI_API_KEY\")\r\n",
    "\r\n",
    "response = openai.Completion.create(\r\n",
    "  engine=\"davinci\",\r\n",
    "  prompt=\"This is a product name generator\\n\\nProduct description: A home milkshake maker\\nSeed words: fast, healthy, compact\\nProduct names: HomeShaker, Fit Shaker, QuickShake, Shake Maker\\n\\nProduct description: A pair of shoes that can fit any foot size.\\nSeed words: adaptable, fit\\nProduct names:\",\r\n",
    "  temperature=0.5,\r\n",
    "  max_tokens=60,\r\n",
    "  top_p=1.0,\r\n",
    "  frequency_penalty=0.0,\r\n",
    "  presence_penalty=0.0,\r\n",
    "  stop=[\"\\n\"]\r\n",
    ")"
   ],
   "outputs": [],
   "metadata": {}
  }
 ],
 "metadata": {
  "orig_nbformat": 4,
  "language_info": {
   "name": "python"
  }
 },
 "nbformat": 4,
 "nbformat_minor": 2
}