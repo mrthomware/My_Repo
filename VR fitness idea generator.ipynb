{
 "cells": [
  {
   "cell_type": "markdown",
   "source": [
    "This prompt creates ideas for fitness and virtual reality games.\r\n",
    "Prompt\r\n",
    "\r\n",
    "Video game ideas involving fitness and virtual reality\r\n",
    "\r\n",
    "1. Alien Yoga\r\n",
    "Use VR to practice yoga as an alien with extra arms and legs.\r\n",
    "\r\n",
    "2. Speed Run\r\n",
    "Exercise like your favorite video game characters reenacting games like Sonic and Mario Bros.\r\n",
    "\r\n",
    "3. Space Ballet"
   ],
   "metadata": {}
  },
  {
   "cell_type": "markdown",
   "source": [
    "Settings\r\n",
    "Max tokens\r\n",
    "60\r\n",
    "Temperature\r\n",
    "0.7\r\n",
    "Top p\r\n",
    "1.0\r\n",
    "Frequency penalty\r\n",
    "0.5\r\n",
    "Presence penalty\r\n",
    "0.5\r\n",
    "Stop sequence\r\n",
    "\\n"
   ],
   "metadata": {}
  },
  {
   "cell_type": "markdown",
   "source": [
    "Sample response\r\n",
    "\r\n",
    "Use VR to practice ballet in space."
   ],
   "metadata": {}
  },
  {
   "cell_type": "code",
   "execution_count": null,
   "source": [
    "import os\r\n",
    "import openai\r\n",
    "\r\n",
    "openai.api_key = os.getenv(\"OPENAI_API_KEY\")\r\n",
    "\r\n",
    "response = openai.Completion.create(\r\n",
    "  engine=\"davinci\",\r\n",
    "  prompt=\"Video game ideas involving fitness and virtual reality\\n\\n1. Alien Yoga\\nUse VR to practice yoga as an alien with extra arms and legs.\\n\\n2. Speed Run\\nExercise like your favorite video game characters reenacting games like Sonic and Mario Bros.\\n\\n3. Space Ballet\",\r\n",
    "  temperature=0.7,\r\n",
    "  max_tokens=60,\r\n",
    "  top_p=1.0,\r\n",
    "  frequency_penalty=0.5,\r\n",
    "  presence_penalty=0.5,\r\n",
    "  stop=[\"\\n\"]\r\n",
    ")"
   ],
   "outputs": [],
   "metadata": {}
  }
 ],
 "metadata": {
  "orig_nbformat": 4,
  "language_info": {
   "name": "python"
  }
 },
 "nbformat": 4,
 "nbformat_minor": 2
}