{
 "cells": [
  {
   "cell_type": "markdown",
   "source": [
    "Classify items into categories via example.\r\n",
    "Prompt\r\n",
    "\r\n",
    "The following is a list of companies and the categories they fall into\r\n",
    "\r\n",
    "Facebook: Social media, Technology\r\n",
    "LinkedIn: Social media, Technology, Enterprise, Careers\r\n",
    "Uber: Transportation, Technology, Marketplace\r\n",
    "Unilever: Conglomerate, Consumer Goods\r\n",
    "Mcdonalds: Food, Fast Food, Logistics, Restaurants\r\n",
    "FedEx:"
   ],
   "metadata": {}
  },
  {
   "cell_type": "markdown",
   "source": [
    "Settings\r\n",
    "Max tokens\r\n",
    "6\r\n",
    "Temperature\r\n",
    "0\r\n",
    "Top p\r\n",
    "1.0\r\n",
    "Frequency penalty\r\n",
    "0.0\r\n",
    "Presence penalty\r\n",
    "0.0\r\n",
    "Stop sequence\r\n",
    "\\n"
   ],
   "metadata": {}
  },
  {
   "cell_type": "markdown",
   "source": [
    "Sample response\r\n",
    "\r\n",
    "Logistics, Transportation"
   ],
   "metadata": {}
  },
  {
   "cell_type": "code",
   "execution_count": null,
   "source": [
    "import os\r\n",
    "import openai\r\n",
    "\r\n",
    "openai.api_key = os.getenv(\"OPENAI_API_KEY\")\r\n",
    "\r\n",
    "response = openai.Completion.create(\r\n",
    "  engine=\"davinci\",\r\n",
    "  prompt=\"The following is a list of companies and the categories they fall into\\n\\nFacebook: Social media, Technology\\nLinkedIn: Social media, Technology, Enterprise, Careers\\nUber: Transportation, Technology, Marketplace\\nUnilever: Conglomerate, Consumer Goods\\nMcdonalds: Food, Fast Food, Logistics, Restaurants\\nFedEx:\",\r\n",
    "  temperature=0,\r\n",
    "  max_tokens=6,\r\n",
    "  top_p=1.0,\r\n",
    "  frequency_penalty=0.0,\r\n",
    "  presence_penalty=0.0,\r\n",
    "  stop=[\"\\n\"]\r\n",
    ")"
   ],
   "outputs": [],
   "metadata": {}
  }
 ],
 "metadata": {
  "orig_nbformat": 4,
  "language_info": {
   "name": "python"
  }
 },
 "nbformat": 4,
 "nbformat_minor": 2
}