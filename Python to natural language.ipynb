{
 "cells": [
  {
   "cell_type": "markdown",
   "source": [
    "Show how we can explain a piece of Python code in human understandable language.\r\n",
    "Prompt\r\n",
    "\r\n",
    "# Python 3 \r\n",
    "def remove_common_prefix(x, prefix, ws_prefix): \r\n",
    "    x[\"completion\"] = x[\"completion\"].str[len(prefix) :] \r\n",
    "    if ws_prefix: \r\n",
    "        # keep the single whitespace as prefix \r\n",
    "        x[\"completion\"] = \" \" + x[\"completion\"] \r\n",
    "return x \r\n",
    "\r\n",
    "# Explanation of what the code does\r\n",
    "\r\n",
    "#"
   ],
   "metadata": {}
  },
  {
   "cell_type": "markdown",
   "source": [
    "Settings\r\n",
    "Engine\r\n",
    "davinci-codex\r\n",
    "Max tokens\r\n",
    "64\r\n",
    "Temperature\r\n",
    "0\r\n",
    "Top p\r\n",
    "1.0\r\n",
    "Frequency penalty\r\n",
    "0.0\r\n",
    "Presence penalty\r\n",
    "0.0\r\n",
    "Stop sequence\r\n",
    "#"
   ],
   "metadata": {}
  },
  {
   "cell_type": "markdown",
   "source": [
    "Sample response\r\n",
    "\r\n",
    "The code above is a function that takes a dataframe and a prefix as input and returns a dataframe with the prefix removed from the completion column."
   ],
   "metadata": {}
  },
  {
   "cell_type": "code",
   "execution_count": null,
   "source": [
    "import os\r\n",
    "import openai\r\n",
    "\r\n",
    "openai.api_key = os.getenv(\"OPENAI_API_KEY\")\r\n",
    "\r\n",
    "response = openai.Completion.create(\r\n",
    "  engine=\"davinci-codex\",\r\n",
    "  prompt=\"# Python 3 \\ndef remove_common_prefix(x, prefix, ws_prefix): \\n    x[\\\"completion\\\"] = x[\\\"completion\\\"].str[len(prefix) :] \\n    if ws_prefix: \\n        # keep the single whitespace as prefix \\n        x[\\\"completion\\\"] = \\\" \\\" + x[\\\"completion\\\"] \\nreturn x \\n\\n# Explanation of what the code does\\n\\n#\",\r\n",
    "  temperature=0,\r\n",
    "  max_tokens=64,\r\n",
    "  top_p=1.0,\r\n",
    "  frequency_penalty=0.0,\r\n",
    "  presence_penalty=0.0,\r\n",
    "  stop=[\"#\"]\r\n",
    ")"
   ],
   "outputs": [],
   "metadata": {}
  }
 ],
 "metadata": {
  "orig_nbformat": 4,
  "language_info": {
   "name": "python"
  }
 },
 "nbformat": 4,
 "nbformat_minor": 2
}